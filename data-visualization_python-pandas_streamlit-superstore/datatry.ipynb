{
 "cells": [
  {
   "cell_type": "code",
   "execution_count": 1,
   "metadata": {},
   "outputs": [],
   "source": [
    "import pandas as pd\n",
    "import numpy as np\n",
    "from datetime import datetime, timedelta\n",
    "from pandas.tseries.offsets import DateOffset\n",
    "import time"
   ]
  },
  {
   "cell_type": "code",
   "execution_count": 7,
   "metadata": {},
   "outputs": [
    {
     "ename": "TypeError",
     "evalue": "'Timestamp' object is not subscriptable",
     "output_type": "error",
     "traceback": [
      "\u001b[1;31m---------------------------------------------------------------------------\u001b[0m",
      "\u001b[1;31mTypeError\u001b[0m                                 Traceback (most recent call last)",
      "\u001b[1;32mc:\\Users\\Marci\\projects\\superstore-python-mimifrei\\datatry.ipynb Cell 2\u001b[0m line \u001b[0;36m1\n\u001b[0;32m     <a href='vscode-notebook-cell:/c%3A/Users/Marci/projects/superstore-python-mimifrei/datatry.ipynb#W1sZmlsZQ%3D%3D?line=12'>13</a>\u001b[0m superstore_df[\u001b[39m'\u001b[39m\u001b[39mShip Date\u001b[39m\u001b[39m'\u001b[39m] \u001b[39m=\u001b[39m pd\u001b[39m.\u001b[39mto_datetime(superstore_df[\u001b[39m'\u001b[39m\u001b[39mShip Date\u001b[39m\u001b[39m'\u001b[39m], dayfirst\u001b[39m=\u001b[39m\u001b[39mTrue\u001b[39;00m)\n\u001b[0;32m     <a href='vscode-notebook-cell:/c%3A/Users/Marci/projects/superstore-python-mimifrei/datatry.ipynb#W1sZmlsZQ%3D%3D?line=13'>14</a>\u001b[0m superstore_df[\u001b[39m'\u001b[39m\u001b[39mYear\u001b[39m\u001b[39m'\u001b[39m] \u001b[39m=\u001b[39m superstore_df[\u001b[39m'\u001b[39m\u001b[39mOrder Date\u001b[39m\u001b[39m'\u001b[39m]\u001b[39m.\u001b[39mdt\u001b[39m.\u001b[39myear\n\u001b[1;32m---> <a href='vscode-notebook-cell:/c%3A/Users/Marci/projects/superstore-python-mimifrei/datatry.ipynb#W1sZmlsZQ%3D%3D?line=14'>15</a>\u001b[0m superstore_df \u001b[39m=\u001b[39m superstore_df[\u001b[39m'\u001b[39m\u001b[39mShip Date\u001b[39m\u001b[39m'\u001b[39m]\u001b[39m.\u001b[39mmap(update_year)\n\u001b[0;32m     <a href='vscode-notebook-cell:/c%3A/Users/Marci/projects/superstore-python-mimifrei/datatry.ipynb#W1sZmlsZQ%3D%3D?line=15'>16</a>\u001b[0m superstore_df[\u001b[39m'\u001b[39m\u001b[39mDays to Ship\u001b[39m\u001b[39m'\u001b[39m] \u001b[39m=\u001b[39m superstore_df[\u001b[39m'\u001b[39m\u001b[39mShip Date\u001b[39m\u001b[39m'\u001b[39m] \u001b[39m-\u001b[39m superstore_df[\u001b[39m'\u001b[39m\u001b[39mOrder Date\u001b[39m\u001b[39m'\u001b[39m]\n\u001b[0;32m     <a href='vscode-notebook-cell:/c%3A/Users/Marci/projects/superstore-python-mimifrei/datatry.ipynb#W1sZmlsZQ%3D%3D?line=16'>17</a>\u001b[0m \u001b[39mprint\u001b[39m(superstore_df[\u001b[39m'\u001b[39m\u001b[39mDays to Ship\u001b[39m\u001b[39m'\u001b[39m]\u001b[39m.\u001b[39mmean())\n",
      "File \u001b[1;32mc:\\Users\\Marci\\anaconda3\\Lib\\site-packages\\pandas\\core\\series.py:4539\u001b[0m, in \u001b[0;36mSeries.map\u001b[1;34m(self, arg, na_action)\u001b[0m\n\u001b[0;32m   4460\u001b[0m \u001b[39mdef\u001b[39;00m \u001b[39mmap\u001b[39m(\n\u001b[0;32m   4461\u001b[0m     \u001b[39mself\u001b[39m,\n\u001b[0;32m   4462\u001b[0m     arg: Callable \u001b[39m|\u001b[39m Mapping \u001b[39m|\u001b[39m Series,\n\u001b[0;32m   4463\u001b[0m     na_action: Literal[\u001b[39m\"\u001b[39m\u001b[39mignore\u001b[39m\u001b[39m\"\u001b[39m] \u001b[39m|\u001b[39m \u001b[39mNone\u001b[39;00m \u001b[39m=\u001b[39m \u001b[39mNone\u001b[39;00m,\n\u001b[0;32m   4464\u001b[0m ) \u001b[39m-\u001b[39m\u001b[39m>\u001b[39m Series:\n\u001b[0;32m   4465\u001b[0m \u001b[39m    \u001b[39m\u001b[39m\"\"\"\u001b[39;00m\n\u001b[0;32m   4466\u001b[0m \u001b[39m    Map values of Series according to an input mapping or function.\u001b[39;00m\n\u001b[0;32m   4467\u001b[0m \n\u001b[1;32m   (...)\u001b[0m\n\u001b[0;32m   4537\u001b[0m \u001b[39m    dtype: object\u001b[39;00m\n\u001b[0;32m   4538\u001b[0m \u001b[39m    \"\"\"\u001b[39;00m\n\u001b[1;32m-> 4539\u001b[0m     new_values \u001b[39m=\u001b[39m \u001b[39mself\u001b[39m\u001b[39m.\u001b[39m_map_values(arg, na_action\u001b[39m=\u001b[39mna_action)\n\u001b[0;32m   4540\u001b[0m     \u001b[39mreturn\u001b[39;00m \u001b[39mself\u001b[39m\u001b[39m.\u001b[39m_constructor(new_values, index\u001b[39m=\u001b[39m\u001b[39mself\u001b[39m\u001b[39m.\u001b[39mindex)\u001b[39m.\u001b[39m__finalize__(\n\u001b[0;32m   4541\u001b[0m         \u001b[39mself\u001b[39m, method\u001b[39m=\u001b[39m\u001b[39m\"\u001b[39m\u001b[39mmap\u001b[39m\u001b[39m\"\u001b[39m\n\u001b[0;32m   4542\u001b[0m     )\n",
      "File \u001b[1;32mc:\\Users\\Marci\\anaconda3\\Lib\\site-packages\\pandas\\core\\base.py:890\u001b[0m, in \u001b[0;36mIndexOpsMixin._map_values\u001b[1;34m(self, mapper, na_action)\u001b[0m\n\u001b[0;32m    887\u001b[0m         \u001b[39mraise\u001b[39;00m \u001b[39mValueError\u001b[39;00m(msg)\n\u001b[0;32m    889\u001b[0m \u001b[39m# mapper is a function\u001b[39;00m\n\u001b[1;32m--> 890\u001b[0m new_values \u001b[39m=\u001b[39m map_f(values, mapper)\n\u001b[0;32m    892\u001b[0m \u001b[39mreturn\u001b[39;00m new_values\n",
      "File \u001b[1;32mc:\\Users\\Marci\\anaconda3\\Lib\\site-packages\\pandas\\_libs\\lib.pyx:2924\u001b[0m, in \u001b[0;36mpandas._libs.lib.map_infer\u001b[1;34m()\u001b[0m\n",
      "\u001b[1;32mc:\\Users\\Marci\\projects\\superstore-python-mimifrei\\datatry.ipynb Cell 2\u001b[0m line \u001b[0;36m2\n\u001b[0;32m      <a href='vscode-notebook-cell:/c%3A/Users/Marci/projects/superstore-python-mimifrei/datatry.ipynb#W1sZmlsZQ%3D%3D?line=0'>1</a>\u001b[0m \u001b[39mdef\u001b[39;00m \u001b[39mupdate_year\u001b[39m(row):\n\u001b[1;32m----> <a href='vscode-notebook-cell:/c%3A/Users/Marci/projects/superstore-python-mimifrei/datatry.ipynb#W1sZmlsZQ%3D%3D?line=1'>2</a>\u001b[0m     \u001b[39mif\u001b[39;00m row[\u001b[39m'\u001b[39m\u001b[39mShip Date\u001b[39m\u001b[39m'\u001b[39m]\u001b[39m.\u001b[39myear \u001b[39m<\u001b[39m row[\u001b[39m'\u001b[39m\u001b[39mOrder Date\u001b[39m\u001b[39m'\u001b[39m]\u001b[39m.\u001b[39myear \u001b[39mand\u001b[39;00m row[\u001b[39m'\u001b[39m\u001b[39mShip Date\u001b[39m\u001b[39m'\u001b[39m]\u001b[39m.\u001b[39mmonth \u001b[39m<\u001b[39m row[\u001b[39m'\u001b[39m\u001b[39mOrder Date\u001b[39m\u001b[39m'\u001b[39m]\u001b[39m.\u001b[39mmonth:\n\u001b[0;32m      <a href='vscode-notebook-cell:/c%3A/Users/Marci/projects/superstore-python-mimifrei/datatry.ipynb#W1sZmlsZQ%3D%3D?line=2'>3</a>\u001b[0m         row[\u001b[39m'\u001b[39m\u001b[39mShip Date\u001b[39m\u001b[39m'\u001b[39m]\u001b[39m=\u001b[39mrow[\u001b[39m'\u001b[39m\u001b[39mShip Date\u001b[39m\u001b[39m'\u001b[39m]\u001b[39m.\u001b[39mreplace(year\u001b[39m=\u001b[39mrow[\u001b[39m'\u001b[39m\u001b[39mOrder Date\u001b[39m\u001b[39m'\u001b[39m]\u001b[39m.\u001b[39myear \u001b[39m+\u001b[39m \u001b[39m1\u001b[39m)\n\u001b[0;32m      <a href='vscode-notebook-cell:/c%3A/Users/Marci/projects/superstore-python-mimifrei/datatry.ipynb#W1sZmlsZQ%3D%3D?line=3'>4</a>\u001b[0m     \u001b[39melif\u001b[39;00m row[\u001b[39m'\u001b[39m\u001b[39mShip Date\u001b[39m\u001b[39m'\u001b[39m]\u001b[39m.\u001b[39myear \u001b[39m<\u001b[39m row[\u001b[39m'\u001b[39m\u001b[39mOrder Date\u001b[39m\u001b[39m'\u001b[39m]\u001b[39m.\u001b[39myear:\n",
      "\u001b[1;31mTypeError\u001b[0m: 'Timestamp' object is not subscriptable"
     ]
    }
   ],
   "source": [
    "def update_year(row):\n",
    "    if row['Ship Date'].year < row['Order Date'].year and row['Ship Date'].month < row['Order Date'].month:\n",
    "        row['Ship Date']=row['Ship Date'].replace(year=row['Order Date'].year + 1)\n",
    "    elif row['Ship Date'].year < row['Order Date'].year:\n",
    "        row['Ship Date']=row['Ship Date'].replace(year=row['Order Date'].year)\n",
    "    return row\n",
    "\n",
    "start_time = time.time()\n",
    "\n",
    "\n",
    "superstore_df = pd.read_csv('data.csv', index_col = 'Row ID')\n",
    "superstore_df['Order Date'] = pd.to_datetime(superstore_df['Order Date'], dayfirst=True)\n",
    "superstore_df['Ship Date'] = pd.to_datetime(superstore_df['Ship Date'], dayfirst=True)\n",
    "superstore_df['Year'] = superstore_df['Order Date'].dt.year\n",
    "superstore_df = superstore_df.apply(update_year, axis=1)\n",
    "superstore_df['Days to Ship'] = superstore_df['Ship Date'] - superstore_df['Order Date']\n",
    "print(superstore_df['Days to Ship'].mean())\n",
    "\n",
    "end_time = time.time()\n",
    "execution_time = end_time - start_time\n",
    "print(f\"Execution time: {execution_time} seconds\")\n",
    "\n"
   ]
  },
  {
   "cell_type": "code",
   "execution_count": 2,
   "metadata": {},
   "outputs": [
    {
     "ename": "ValueError",
     "evalue": "modifications to a property of a datetimelike object are not supported. Change values on the original.",
     "output_type": "error",
     "traceback": [
      "\u001b[1;31m---------------------------------------------------------------------------\u001b[0m",
      "\u001b[1;31mValueError\u001b[0m                                Traceback (most recent call last)",
      "\u001b[1;32mc:\\Users\\Marci\\projects\\superstore-python-mimifrei\\datatry.ipynb Cell 3\u001b[0m line \u001b[0;36m8\n\u001b[0;32m      <a href='vscode-notebook-cell:/c%3A/Users/Marci/projects/superstore-python-mimifrei/datatry.ipynb#W2sZmlsZQ%3D%3D?line=5'>6</a>\u001b[0m superstore_df[\u001b[39m'\u001b[39m\u001b[39mShip Date\u001b[39m\u001b[39m'\u001b[39m] \u001b[39m=\u001b[39m pd\u001b[39m.\u001b[39mto_datetime(superstore_df[\u001b[39m'\u001b[39m\u001b[39mShip Date\u001b[39m\u001b[39m'\u001b[39m], dayfirst\u001b[39m=\u001b[39m\u001b[39mTrue\u001b[39;00m)\n\u001b[0;32m      <a href='vscode-notebook-cell:/c%3A/Users/Marci/projects/superstore-python-mimifrei/datatry.ipynb#W2sZmlsZQ%3D%3D?line=6'>7</a>\u001b[0m superstore_df[\u001b[39m'\u001b[39m\u001b[39mYear\u001b[39m\u001b[39m'\u001b[39m] \u001b[39m=\u001b[39m superstore_df[\u001b[39m'\u001b[39m\u001b[39mOrder Date\u001b[39m\u001b[39m'\u001b[39m]\u001b[39m.\u001b[39mdt\u001b[39m.\u001b[39myear\n\u001b[1;32m----> <a href='vscode-notebook-cell:/c%3A/Users/Marci/projects/superstore-python-mimifrei/datatry.ipynb#W2sZmlsZQ%3D%3D?line=7'>8</a>\u001b[0m superstore_df\u001b[39m.\u001b[39mloc[(superstore_df[\u001b[39m'\u001b[39m\u001b[39mShip Date\u001b[39m\u001b[39m'\u001b[39m]\u001b[39m.\u001b[39mdt\u001b[39m.\u001b[39myear \u001b[39m<\u001b[39m superstore_df[\u001b[39m'\u001b[39m\u001b[39mOrder Date\u001b[39m\u001b[39m'\u001b[39m]\u001b[39m.\u001b[39mdt\u001b[39m.\u001b[39myear) \u001b[39m&\u001b[39m (superstore_df[\u001b[39m'\u001b[39m\u001b[39mShip Date\u001b[39m\u001b[39m'\u001b[39m]\u001b[39m.\u001b[39mdt\u001b[39m.\u001b[39mmonth \u001b[39m<\u001b[39m superstore_df[\u001b[39m'\u001b[39m\u001b[39mOrder Date\u001b[39m\u001b[39m'\u001b[39m]\u001b[39m.\u001b[39mdt\u001b[39m.\u001b[39mmonth), \u001b[39m'\u001b[39m\u001b[39mShip Date\u001b[39m\u001b[39m'\u001b[39m]\u001b[39m.\u001b[39mdt\u001b[39m.\u001b[39myear \u001b[39m=\u001b[39m superstore_df[\u001b[39m'\u001b[39m\u001b[39mOrder Date\u001b[39m\u001b[39m'\u001b[39m]\u001b[39m.\u001b[39mdt\u001b[39m.\u001b[39myear\n\u001b[0;32m      <a href='vscode-notebook-cell:/c%3A/Users/Marci/projects/superstore-python-mimifrei/datatry.ipynb#W2sZmlsZQ%3D%3D?line=8'>9</a>\u001b[0m \u001b[39m#superstore_df.loc[superstore_df['Ship Date'].dt.year < superstore_df['Order Date'].dt.year, 'Ship Date'] = superstore_df['Ship Date'].replace(year=superstore_df['Order Date'].dt.year)\u001b[39;00m\n\u001b[0;32m     <a href='vscode-notebook-cell:/c%3A/Users/Marci/projects/superstore-python-mimifrei/datatry.ipynb#W2sZmlsZQ%3D%3D?line=9'>10</a>\u001b[0m superstore_df[\u001b[39m'\u001b[39m\u001b[39mDays to Ship\u001b[39m\u001b[39m'\u001b[39m] \u001b[39m=\u001b[39m superstore_df[\u001b[39m'\u001b[39m\u001b[39mShip Date\u001b[39m\u001b[39m'\u001b[39m] \u001b[39m-\u001b[39m superstore_df[\u001b[39m'\u001b[39m\u001b[39mOrder Date\u001b[39m\u001b[39m'\u001b[39m]\n",
      "File \u001b[1;32mc:\\Users\\Marci\\anaconda3\\Lib\\site-packages\\pandas\\core\\base.py:180\u001b[0m, in \u001b[0;36mNoNewAttributesMixin.__setattr__\u001b[1;34m(self, key, value)\u001b[0m\n\u001b[0;32m    174\u001b[0m \u001b[39mif\u001b[39;00m \u001b[39mgetattr\u001b[39m(\u001b[39mself\u001b[39m, \u001b[39m\"\u001b[39m\u001b[39m__frozen\u001b[39m\u001b[39m\"\u001b[39m, \u001b[39mFalse\u001b[39;00m) \u001b[39mand\u001b[39;00m \u001b[39mnot\u001b[39;00m (\n\u001b[0;32m    175\u001b[0m     key \u001b[39m==\u001b[39m \u001b[39m\"\u001b[39m\u001b[39m_cache\u001b[39m\u001b[39m\"\u001b[39m\n\u001b[0;32m    176\u001b[0m     \u001b[39mor\u001b[39;00m key \u001b[39min\u001b[39;00m \u001b[39mtype\u001b[39m(\u001b[39mself\u001b[39m)\u001b[39m.\u001b[39m\u001b[39m__dict__\u001b[39m\n\u001b[0;32m    177\u001b[0m     \u001b[39mor\u001b[39;00m \u001b[39mgetattr\u001b[39m(\u001b[39mself\u001b[39m, key, \u001b[39mNone\u001b[39;00m) \u001b[39mis\u001b[39;00m \u001b[39mnot\u001b[39;00m \u001b[39mNone\u001b[39;00m\n\u001b[0;32m    178\u001b[0m ):\n\u001b[0;32m    179\u001b[0m     \u001b[39mraise\u001b[39;00m \u001b[39mAttributeError\u001b[39;00m(\u001b[39mf\u001b[39m\u001b[39m\"\u001b[39m\u001b[39mYou cannot add any new attribute \u001b[39m\u001b[39m'\u001b[39m\u001b[39m{\u001b[39;00mkey\u001b[39m}\u001b[39;00m\u001b[39m'\u001b[39m\u001b[39m\"\u001b[39m)\n\u001b[1;32m--> 180\u001b[0m \u001b[39mobject\u001b[39m\u001b[39m.\u001b[39m\u001b[39m__setattr__\u001b[39m(\u001b[39mself\u001b[39m, key, value)\n",
      "File \u001b[1;32mc:\\Users\\Marci\\anaconda3\\Lib\\site-packages\\pandas\\core\\accessor.py:83\u001b[0m, in \u001b[0;36mPandasDelegate._add_delegate_accessors.<locals>._create_delegator_property.<locals>._setter\u001b[1;34m(self, new_values)\u001b[0m\n\u001b[0;32m     82\u001b[0m \u001b[39mdef\u001b[39;00m \u001b[39m_setter\u001b[39m(\u001b[39mself\u001b[39m, new_values):\n\u001b[1;32m---> 83\u001b[0m     \u001b[39mreturn\u001b[39;00m \u001b[39mself\u001b[39m\u001b[39m.\u001b[39m_delegate_property_set(name, new_values)\n",
      "File \u001b[1;32mc:\\Users\\Marci\\anaconda3\\Lib\\site-packages\\pandas\\core\\indexes\\accessors.py:115\u001b[0m, in \u001b[0;36mProperties._delegate_property_set\u001b[1;34m(self, name, value, *args, **kwargs)\u001b[0m\n\u001b[0;32m    114\u001b[0m \u001b[39mdef\u001b[39;00m \u001b[39m_delegate_property_set\u001b[39m(\u001b[39mself\u001b[39m, name, value, \u001b[39m*\u001b[39margs, \u001b[39m*\u001b[39m\u001b[39m*\u001b[39mkwargs):\n\u001b[1;32m--> 115\u001b[0m     \u001b[39mraise\u001b[39;00m \u001b[39mValueError\u001b[39;00m(\n\u001b[0;32m    116\u001b[0m         \u001b[39m\"\u001b[39m\u001b[39mmodifications to a property of a datetimelike object are not supported. \u001b[39m\u001b[39m\"\u001b[39m\n\u001b[0;32m    117\u001b[0m         \u001b[39m\"\u001b[39m\u001b[39mChange values on the original.\u001b[39m\u001b[39m\"\u001b[39m\n\u001b[0;32m    118\u001b[0m     )\n",
      "\u001b[1;31mValueError\u001b[0m: modifications to a property of a datetimelike object are not supported. Change values on the original."
     ]
    }
   ],
   "source": [
    "start_time = time.time()\n",
    "\n",
    "\n",
    "superstore_df = pd.read_csv('data.csv', index_col = 'Row ID')\n",
    "superstore_df['Order Date'] = pd.to_datetime(superstore_df['Order Date'], dayfirst=True)\n",
    "superstore_df['Ship Date'] = pd.to_datetime(superstore_df['Ship Date'], dayfirst=True)\n",
    "superstore_df['Year'] = superstore_df['Order Date'].dt.year\n",
    "superstore_df.loc[(superstore_df['Ship Date'].dt.year < superstore_df['Order Date'].dt.year) & (superstore_df['Ship Date'].dt.month < superstore_df['Order Date'].dt.month), 'Ship Date'].dt.year = superstore_df['Order Date'].dt.year\n",
    "#superstore_df.loc[superstore_df['Ship Date'].dt.year < superstore_df['Order Date'].dt.year, 'Ship Date'] = superstore_df['Ship Date'].replace(year=superstore_df['Order Date'].dt.year)\n",
    "superstore_df['Days to Ship'] = superstore_df['Ship Date'] - superstore_df['Order Date']\n",
    "print(superstore_df['Days to Ship'].mean())\n",
    "\n",
    "end_time = time.time()\n",
    "execution_time = end_time - start_time\n",
    "print(f\"Execution time: {execution_time} seconds\")"
   ]
  },
  {
   "cell_type": "code",
   "execution_count": 10,
   "metadata": {},
   "outputs": [
    {
     "ename": "TypeError",
     "evalue": "Series.replace() got an unexpected keyword argument 'year'",
     "output_type": "error",
     "traceback": [
      "\u001b[1;31m---------------------------------------------------------------------------\u001b[0m",
      "\u001b[1;31mTypeError\u001b[0m                                 Traceback (most recent call last)",
      "\u001b[1;32mc:\\Users\\Marci\\projects\\superstore-python-mimifrei\\datatry.ipynb Cell 4\u001b[0m line \u001b[0;36m2\n\u001b[0;32m      <a href='vscode-notebook-cell:/c%3A/Users/Marci/projects/superstore-python-mimifrei/datatry.ipynb#X24sZmlsZQ%3D%3D?line=6'>7</a>\u001b[0m \u001b[39m# Apply the update_year function\u001b[39;00m\n\u001b[0;32m      <a href='vscode-notebook-cell:/c%3A/Users/Marci/projects/superstore-python-mimifrei/datatry.ipynb#X24sZmlsZQ%3D%3D?line=7'>8</a>\u001b[0m \u001b[39m#superstore_df = superstore_df.apply(update_year, axis=1)\u001b[39;00m\n\u001b[0;32m      <a href='vscode-notebook-cell:/c%3A/Users/Marci/projects/superstore-python-mimifrei/datatry.ipynb#X24sZmlsZQ%3D%3D?line=8'>9</a>\u001b[0m \n\u001b[0;32m     <a href='vscode-notebook-cell:/c%3A/Users/Marci/projects/superstore-python-mimifrei/datatry.ipynb#X24sZmlsZQ%3D%3D?line=9'>10</a>\u001b[0m \u001b[39m# Correct the 'Ship Date' column using pd.to_datetime\u001b[39;00m\n\u001b[0;32m     <a href='vscode-notebook-cell:/c%3A/Users/Marci/projects/superstore-python-mimifrei/datatry.ipynb#X24sZmlsZQ%3D%3D?line=10'>11</a>\u001b[0m superstore_df\u001b[39m.\u001b[39mloc[\n\u001b[0;32m     <a href='vscode-notebook-cell:/c%3A/Users/Marci/projects/superstore-python-mimifrei/datatry.ipynb#X24sZmlsZQ%3D%3D?line=11'>12</a>\u001b[0m     (superstore_df[\u001b[39m'\u001b[39m\u001b[39mShip Date\u001b[39m\u001b[39m'\u001b[39m]\u001b[39m.\u001b[39mdt\u001b[39m.\u001b[39myear \u001b[39m<\u001b[39m superstore_df[\u001b[39m'\u001b[39m\u001b[39mOrder Date\u001b[39m\u001b[39m'\u001b[39m]\u001b[39m.\u001b[39mdt\u001b[39m.\u001b[39myear) \u001b[39m&\u001b[39m \n\u001b[0;32m     <a href='vscode-notebook-cell:/c%3A/Users/Marci/projects/superstore-python-mimifrei/datatry.ipynb#X24sZmlsZQ%3D%3D?line=12'>13</a>\u001b[0m     (superstore_df[\u001b[39m'\u001b[39m\u001b[39mShip Date\u001b[39m\u001b[39m'\u001b[39m]\u001b[39m.\u001b[39mdt\u001b[39m.\u001b[39mmonth \u001b[39m<\u001b[39m superstore_df[\u001b[39m'\u001b[39m\u001b[39mOrder Date\u001b[39m\u001b[39m'\u001b[39m]\u001b[39m.\u001b[39mdt\u001b[39m.\u001b[39mmonth),\n\u001b[0;32m     <a href='vscode-notebook-cell:/c%3A/Users/Marci/projects/superstore-python-mimifrei/datatry.ipynb#X24sZmlsZQ%3D%3D?line=13'>14</a>\u001b[0m     \u001b[39m'\u001b[39m\u001b[39mShip Date\u001b[39m\u001b[39m'\u001b[39m\n\u001b[0;32m     <a href='vscode-notebook-cell:/c%3A/Users/Marci/projects/superstore-python-mimifrei/datatry.ipynb#X24sZmlsZQ%3D%3D?line=14'>15</a>\u001b[0m ] \u001b[39m=\u001b[39m superstore_df[\u001b[39m'\u001b[39m\u001b[39mShip Date\u001b[39m\u001b[39m'\u001b[39m] \u001b[39m+\u001b[39m pd\u001b[39m.\u001b[39mDateOffset(years\u001b[39m=\u001b[39m\u001b[39m1\u001b[39m)\n\u001b[0;32m     <a href='vscode-notebook-cell:/c%3A/Users/Marci/projects/superstore-python-mimifrei/datatry.ipynb#X24sZmlsZQ%3D%3D?line=16'>17</a>\u001b[0m superstore_df\u001b[39m.\u001b[39mloc[\n\u001b[0;32m     <a href='vscode-notebook-cell:/c%3A/Users/Marci/projects/superstore-python-mimifrei/datatry.ipynb#X24sZmlsZQ%3D%3D?line=17'>18</a>\u001b[0m     superstore_df[\u001b[39m'\u001b[39m\u001b[39mShip Date\u001b[39m\u001b[39m'\u001b[39m]\u001b[39m.\u001b[39mdt\u001b[39m.\u001b[39myear \u001b[39m<\u001b[39m superstore_df[\u001b[39m'\u001b[39m\u001b[39mOrder Date\u001b[39m\u001b[39m'\u001b[39m]\u001b[39m.\u001b[39mdt\u001b[39m.\u001b[39myear,\n\u001b[0;32m     <a href='vscode-notebook-cell:/c%3A/Users/Marci/projects/superstore-python-mimifrei/datatry.ipynb#X24sZmlsZQ%3D%3D?line=18'>19</a>\u001b[0m     \u001b[39m'\u001b[39m\u001b[39mShip Date\u001b[39m\u001b[39m'\u001b[39m\n\u001b[1;32m---> <a href='vscode-notebook-cell:/c%3A/Users/Marci/projects/superstore-python-mimifrei/datatry.ipynb#X24sZmlsZQ%3D%3D?line=19'>20</a>\u001b[0m ] \u001b[39m=\u001b[39m superstore_df[\u001b[39m'\u001b[39m\u001b[39mShip Date\u001b[39m\u001b[39m'\u001b[39m]\u001b[39m.\u001b[39mreplace(year\u001b[39m=\u001b[39msuperstore_df[\u001b[39m'\u001b[39m\u001b[39mOrder Date\u001b[39m\u001b[39m'\u001b[39m]\u001b[39m.\u001b[39mdt\u001b[39m.\u001b[39myear)\n\u001b[0;32m     <a href='vscode-notebook-cell:/c%3A/Users/Marci/projects/superstore-python-mimifrei/datatry.ipynb#X24sZmlsZQ%3D%3D?line=21'>22</a>\u001b[0m superstore_df[\u001b[39m'\u001b[39m\u001b[39mDays to Ship\u001b[39m\u001b[39m'\u001b[39m] \u001b[39m=\u001b[39m superstore_df[\u001b[39m'\u001b[39m\u001b[39mShip Date\u001b[39m\u001b[39m'\u001b[39m] \u001b[39m-\u001b[39m superstore_df[\u001b[39m'\u001b[39m\u001b[39mOrder Date\u001b[39m\u001b[39m'\u001b[39m]\n\u001b[0;32m     <a href='vscode-notebook-cell:/c%3A/Users/Marci/projects/superstore-python-mimifrei/datatry.ipynb#X24sZmlsZQ%3D%3D?line=22'>23</a>\u001b[0m \u001b[39mprint\u001b[39m(superstore_df[\u001b[39m'\u001b[39m\u001b[39mDays to Ship\u001b[39m\u001b[39m'\u001b[39m]\u001b[39m.\u001b[39mmean())\n",
      "File \u001b[1;32mc:\\Users\\Marci\\anaconda3\\Lib\\site-packages\\pandas\\util\\_decorators.py:331\u001b[0m, in \u001b[0;36mdeprecate_nonkeyword_arguments.<locals>.decorate.<locals>.wrapper\u001b[1;34m(*args, **kwargs)\u001b[0m\n\u001b[0;32m    325\u001b[0m \u001b[39mif\u001b[39;00m \u001b[39mlen\u001b[39m(args) \u001b[39m>\u001b[39m num_allow_args:\n\u001b[0;32m    326\u001b[0m     warnings\u001b[39m.\u001b[39mwarn(\n\u001b[0;32m    327\u001b[0m         msg\u001b[39m.\u001b[39mformat(arguments\u001b[39m=\u001b[39m_format_argument_list(allow_args)),\n\u001b[0;32m    328\u001b[0m         \u001b[39mFutureWarning\u001b[39;00m,\n\u001b[0;32m    329\u001b[0m         stacklevel\u001b[39m=\u001b[39mfind_stack_level(),\n\u001b[0;32m    330\u001b[0m     )\n\u001b[1;32m--> 331\u001b[0m \u001b[39mreturn\u001b[39;00m func(\u001b[39m*\u001b[39margs, \u001b[39m*\u001b[39m\u001b[39m*\u001b[39mkwargs)\n",
      "\u001b[1;31mTypeError\u001b[0m: Series.replace() got an unexpected keyword argument 'year'"
     ]
    }
   ],
   "source": [
    "#chatgpt\n",
    "superstore_df = pd.read_csv('data.csv', index_col='Row ID')\n",
    "superstore_df['Order Date'] = pd.to_datetime(superstore_df['Order Date'], dayfirst=True)\n",
    "superstore_df['Ship Date'] = pd.to_datetime(superstore_df['Ship Date'], dayfirst=True)\n",
    "superstore_df['Year'] = superstore_df['Order Date'].dt.year\n",
    "\n",
    "# Apply the update_year function\n",
    "#superstore_df = superstore_df.apply(update_year, axis=1)\n",
    "\n",
    "# Correct the 'Ship Date' column using pd.to_datetime\n",
    "superstore_df.loc[\n",
    "    (superstore_df['Ship Date'].dt.year < superstore_df['Order Date'].dt.year) & \n",
    "    (superstore_df['Ship Date'].dt.month < superstore_df['Order Date'].dt.month),\n",
    "    'Ship Date'\n",
    "] = superstore_df['Ship Date'] + pd.DateOffset(years=1)\n",
    "\n",
    "superstore_df.loc[\n",
    "    superstore_df['Ship Date'].dt.year < superstore_df['Order Date'].dt.year,\n",
    "    'Ship Date'\n",
    "] = superstore_df['Ship Date'].replace(year=superstore_df['Order Date'].dt.year)\n",
    "\n",
    "superstore_df['Days to Ship'] = superstore_df['Ship Date'] - superstore_df['Order Date']\n",
    "print(superstore_df['Days to Ship'].mean())"
   ]
  },
  {
   "cell_type": "code",
   "execution_count": null,
   "metadata": {},
   "outputs": [],
   "source": [
    "# Read data\n",
    "#superstore_df[(superstore_df['Order Date'].dt.year == 2021) & (superstore_df['Ship Date'].dt.year == 2020)]\n",
    "#superstore_df.loc[superstore_df['Ship Date'] < superstore_df['Order Date'], 'Ship Date'] = superstore_df['Year'] + superstore_df['Order Date'].dt.strftime('%Y%m%d')\n",
    "#superstore_df.loc[(superstore_df['Ship Date'].dt.year < superstore_df['Order Date'].dt.year) & (superstore_df['Ship Date'].dt.month < superstore_df['Order Date'].dt.month), 'Ship Date'] = superstore_df['Ship Date'].replace(year=superstore_df['Order Date'].dt.year + 1)"
   ]
  },
  {
   "cell_type": "code",
   "execution_count": null,
   "metadata": {},
   "outputs": [],
   "source": [
    "superstore_df[['Order Date','Ship Date']].head(20)"
   ]
  },
  {
   "cell_type": "code",
   "execution_count": null,
   "metadata": {},
   "outputs": [],
   "source": [
    "# Extract years from Order Date column into a new column and correct Ship Date\n",
    "#superstore_df['Year'] = pd.to_datetime(superstore_df['Order Date']).dt.year\n",
    "superstore_df.info()\n"
   ]
  },
  {
   "cell_type": "code",
   "execution_count": null,
   "metadata": {},
   "outputs": [],
   "source": [
    "# Correct Ship Date and calculate Days to Ship column from Order Date and Ship Date\n",
    "superstore_df['Order Date'] = pd.to_datetime(superstore_df['Order Date'])\n",
    "superstore_df['Year'] = superstore_df['Order Date'].dt.year\n",
    "superstore_df['Year'] = superstore_df['Year'].astype(str)\n",
    "superstore_df['Ship Date'] = superstore_df['Ship Date'].str[:-4]\n",
    "superstore_df['Ship Date'] = superstore_df['Ship Date'] + superstore_df['Year']\n",
    "superstore_df['Ship Date'] = pd.to_datetime(superstore_df['Ship Date'])\n",
    "superstore_df.loc[superstore_df['Ship Date'] < superstore_df['Order Date'], 'Ship Date'] = superstore_df['Ship Date']+ DateOffset(years=1)\n",
    "superstore_df['Days to Ship'] = superstore_df['Ship Date'] - superstore_df['Order Date']\n",
    "superstore_df\n",
    "\n"
   ]
  },
  {
   "cell_type": "code",
   "execution_count": null,
   "metadata": {},
   "outputs": [],
   "source": [
    "#if superstore_df['Days to Ship'] < timedelta(0):\n",
    "#    superstore_df['Ship Date'] = superstore_df['Ship Date'] + DateOffset(year=1)\n",
    "\n",
    "superstore_df.loc[superstore_df['Days to Ship'] < timedelta(0), 'Ship Date'] = superstore_df['Ship Date']+ DateOffset(years=1)\n",
    "superstore_df\n",
    "\n"
   ]
  },
  {
   "cell_type": "code",
   "execution_count": null,
   "metadata": {},
   "outputs": [],
   "source": [
    "superstore_df['Days to Ship'].info()"
   ]
  },
  {
   "cell_type": "code",
   "execution_count": null,
   "metadata": {},
   "outputs": [],
   "source": [
    "superstore_df"
   ]
  },
  {
   "cell_type": "code",
   "execution_count": null,
   "metadata": {},
   "outputs": [],
   "source": [
    "# Check NaN values\n",
    "pd.set_option('display.max_columns', None)\n",
    "superstore_df[superstore_df.isna().any(axis=1)]\n"
   ]
  },
  {
   "cell_type": "code",
   "execution_count": null,
   "metadata": {},
   "outputs": [],
   "source": [
    "superstore_df.describe()\n"
   ]
  },
  {
   "cell_type": "code",
   "execution_count": null,
   "metadata": {},
   "outputs": [],
   "source": [
    "superstore_df['Sales'].sum()"
   ]
  },
  {
   "cell_type": "code",
   "execution_count": null,
   "metadata": {},
   "outputs": [],
   "source": [
    "superstore_df['Profit'].sum()"
   ]
  },
  {
   "cell_type": "code",
   "execution_count": null,
   "metadata": {},
   "outputs": [],
   "source": [
    "len(superstore_df.groupby(by='Order ID').count())"
   ]
  },
  {
   "cell_type": "code",
   "execution_count": null,
   "metadata": {},
   "outputs": [],
   "source": [
    "data = {'Order Date': ['2022-03-15', '2023-05-20', '2021-11-10'],\n",
    "        'Ship Date': ['2022-04-25', '2023-02-15', '2020-09-08']}\n",
    "df = pd.DataFrame(data)\n",
    "\n",
    "# Convert 'Order Date' to datetime\n",
    "df['Order Date'] = pd.to_datetime(df['Order Date'])\n",
    "\n",
    "# Extract the year from 'Order Date' and store it in a new column 'Year'\n",
    "df['Year'] = df['Order Date'].dt.year\n",
    "\n",
    "# Use a lambda function to replace the year part in 'Ship Date'\n",
    "df['Ship Date'] = df.apply(lambda row: row['Ship Date'].replace(year=row['Year']), axis=1)\n",
    "\n",
    "# Drop the 'Year' column if you no longer need it\n",
    "df.drop('Year', axis=1, inplace=True)\n",
    "\n",
    "# Print the updated DataFrame\n",
    "print(df)"
   ]
  },
  {
   "cell_type": "code",
   "execution_count": null,
   "metadata": {},
   "outputs": [],
   "source": [
    "superstore_df.groupby('Product Name').sum().sort_values('Sales', ascending=False)"
   ]
  },
  {
   "cell_type": "code",
   "execution_count": null,
   "metadata": {},
   "outputs": [],
   "source": [
    "superstore_df.groupby('Category').sum()\n",
    "cat_pivot_table = superstore_df.pivot_table(index='Year', columns='Category', values='Sales', aggfunc='sum', fill_value=0)\n",
    "pivot_table"
   ]
  }
 ],
 "metadata": {
  "kernelspec": {
   "display_name": "base",
   "language": "python",
   "name": "python3"
  },
  "language_info": {
   "codemirror_mode": {
    "name": "ipython",
    "version": 3
   },
   "file_extension": ".py",
   "mimetype": "text/x-python",
   "name": "python",
   "nbconvert_exporter": "python",
   "pygments_lexer": "ipython3",
   "version": "3.11.4"
  },
  "orig_nbformat": 4
 },
 "nbformat": 4,
 "nbformat_minor": 2
}
